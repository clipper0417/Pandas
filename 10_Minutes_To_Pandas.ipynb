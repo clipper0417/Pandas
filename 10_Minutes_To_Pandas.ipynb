{
 "metadata": {
  "name": "",
  "signature": "sha256:1fc43b4989cff88e240972d1431044e961fa43acffba3dad102487c828265c6d"
 },
 "nbformat": 3,
 "nbformat_minor": 0,
 "worksheets": [
  {
   "cells": [
    {
     "cell_type": "markdown",
     "metadata": {},
     "source": [
      "##10 Minutes to pandas   [source](http://pandas.pydata.org/pandas-docs/stable/10min.html#min)"
     ]
    },
    {
     "cell_type": "markdown",
     "metadata": {},
     "source": []
    },
    {
     "cell_type": "code",
     "collapsed": false,
     "input": [
      "import pandas as pd\n",
      "\n",
      "import numpy as np\n",
      "\n",
      "import matplotlib.pyplot as plt"
     ],
     "language": "python",
     "metadata": {},
     "outputs": [],
     "prompt_number": 2
    },
    {
     "cell_type": "markdown",
     "metadata": {},
     "source": []
    },
    {
     "cell_type": "markdown",
     "metadata": {},
     "source": [
      "###Object Creation"
     ]
    },
    {
     "cell_type": "code",
     "collapsed": false,
     "input": [
      "s = pd.Series([1,3,5,np.nan,6,8])"
     ],
     "language": "python",
     "metadata": {},
     "outputs": [],
     "prompt_number": 3
    },
    {
     "cell_type": "code",
     "collapsed": false,
     "input": [
      "s"
     ],
     "language": "python",
     "metadata": {},
     "outputs": [
      {
       "metadata": {},
       "output_type": "pyout",
       "prompt_number": 4,
       "text": [
        "0     1\n",
        "1     3\n",
        "2     5\n",
        "3   NaN\n",
        "4     6\n",
        "5     8\n",
        "dtype: float64"
       ]
      }
     ],
     "prompt_number": 4
    },
    {
     "cell_type": "code",
     "collapsed": false,
     "input": [
      "dates = pd.date_range('20130101',periods=6)"
     ],
     "language": "python",
     "metadata": {},
     "outputs": [],
     "prompt_number": 5
    },
    {
     "cell_type": "code",
     "collapsed": false,
     "input": [
      "dates"
     ],
     "language": "python",
     "metadata": {},
     "outputs": [
      {
       "metadata": {},
       "output_type": "pyout",
       "prompt_number": 6,
       "text": [
        "<class 'pandas.tseries.index.DatetimeIndex'>\n",
        "[2013-01-01, ..., 2013-01-06]\n",
        "Length: 6, Freq: D, Timezone: None"
       ]
      }
     ],
     "prompt_number": 6
    },
    {
     "cell_type": "code",
     "collapsed": false,
     "input": [],
     "language": "python",
     "metadata": {},
     "outputs": []
    },
    {
     "cell_type": "code",
     "collapsed": false,
     "input": [
      "df = pd.DataFrame(np.random.randn(6,4),index=dates,columns=list('ABCD'))"
     ],
     "language": "python",
     "metadata": {},
     "outputs": [],
     "prompt_number": 7
    },
    {
     "cell_type": "code",
     "collapsed": false,
     "input": [
      "df"
     ],
     "language": "python",
     "metadata": {},
     "outputs": [
      {
       "html": [
        "<div style=\"max-height:1000px;max-width:1500px;overflow:auto;\">\n",
        "<table border=\"1\" class=\"dataframe\">\n",
        "  <thead>\n",
        "    <tr style=\"text-align: right;\">\n",
        "      <th></th>\n",
        "      <th>A</th>\n",
        "      <th>B</th>\n",
        "      <th>C</th>\n",
        "      <th>D</th>\n",
        "    </tr>\n",
        "  </thead>\n",
        "  <tbody>\n",
        "    <tr>\n",
        "      <th>2013-01-01</th>\n",
        "      <td> 0.245509</td>\n",
        "      <td>-0.522100</td>\n",
        "      <td> 1.974573</td>\n",
        "      <td> 0.072960</td>\n",
        "    </tr>\n",
        "    <tr>\n",
        "      <th>2013-01-02</th>\n",
        "      <td>-0.201763</td>\n",
        "      <td> 0.255675</td>\n",
        "      <td>-0.075453</td>\n",
        "      <td>-1.429800</td>\n",
        "    </tr>\n",
        "    <tr>\n",
        "      <th>2013-01-03</th>\n",
        "      <td> 0.974032</td>\n",
        "      <td>-2.392205</td>\n",
        "      <td> 0.815723</td>\n",
        "      <td> 0.730472</td>\n",
        "    </tr>\n",
        "    <tr>\n",
        "      <th>2013-01-04</th>\n",
        "      <td> 0.900475</td>\n",
        "      <td>-1.142326</td>\n",
        "      <td>-0.190992</td>\n",
        "      <td> 1.038450</td>\n",
        "    </tr>\n",
        "    <tr>\n",
        "      <th>2013-01-05</th>\n",
        "      <td> 0.030518</td>\n",
        "      <td>-1.984633</td>\n",
        "      <td> 0.759708</td>\n",
        "      <td> 1.158989</td>\n",
        "    </tr>\n",
        "    <tr>\n",
        "      <th>2013-01-06</th>\n",
        "      <td>-0.269908</td>\n",
        "      <td> 0.924778</td>\n",
        "      <td> 1.127431</td>\n",
        "      <td> 1.483769</td>\n",
        "    </tr>\n",
        "  </tbody>\n",
        "</table>\n",
        "</div>"
       ],
       "metadata": {},
       "output_type": "pyout",
       "prompt_number": 8,
       "text": [
        "                   A         B         C         D\n",
        "2013-01-01  0.245509 -0.522100  1.974573  0.072960\n",
        "2013-01-02 -0.201763  0.255675 -0.075453 -1.429800\n",
        "2013-01-03  0.974032 -2.392205  0.815723  0.730472\n",
        "2013-01-04  0.900475 -1.142326 -0.190992  1.038450\n",
        "2013-01-05  0.030518 -1.984633  0.759708  1.158989\n",
        "2013-01-06 -0.269908  0.924778  1.127431  1.483769"
       ]
      }
     ],
     "prompt_number": 8
    },
    {
     "cell_type": "code",
     "collapsed": false,
     "input": [],
     "language": "python",
     "metadata": {},
     "outputs": []
    },
    {
     "cell_type": "code",
     "collapsed": false,
     "input": [
      "df2 = pd.DataFrame({ 'A' : 1.,\n",
      "   ....:                      'B' : pd.Timestamp('20130102'),\n",
      "   ....:                      'C' : pd.Series(1,index=list(range(4)),dtype='float32'),\n",
      "   ....:                      'D' : np.array([3] * 4,dtype='int32'),\n",
      "   ....:                      'E' : 'foo' })"
     ],
     "language": "python",
     "metadata": {},
     "outputs": [],
     "prompt_number": 9
    },
    {
     "cell_type": "code",
     "collapsed": false,
     "input": [
      "df2"
     ],
     "language": "python",
     "metadata": {},
     "outputs": [
      {
       "html": [
        "<div style=\"max-height:1000px;max-width:1500px;overflow:auto;\">\n",
        "<table border=\"1\" class=\"dataframe\">\n",
        "  <thead>\n",
        "    <tr style=\"text-align: right;\">\n",
        "      <th></th>\n",
        "      <th>A</th>\n",
        "      <th>B</th>\n",
        "      <th>C</th>\n",
        "      <th>D</th>\n",
        "      <th>E</th>\n",
        "    </tr>\n",
        "  </thead>\n",
        "  <tbody>\n",
        "    <tr>\n",
        "      <th>0</th>\n",
        "      <td> 1</td>\n",
        "      <td>2013-01-02</td>\n",
        "      <td> 1</td>\n",
        "      <td> 3</td>\n",
        "      <td> foo</td>\n",
        "    </tr>\n",
        "    <tr>\n",
        "      <th>1</th>\n",
        "      <td> 1</td>\n",
        "      <td>2013-01-02</td>\n",
        "      <td> 1</td>\n",
        "      <td> 3</td>\n",
        "      <td> foo</td>\n",
        "    </tr>\n",
        "    <tr>\n",
        "      <th>2</th>\n",
        "      <td> 1</td>\n",
        "      <td>2013-01-02</td>\n",
        "      <td> 1</td>\n",
        "      <td> 3</td>\n",
        "      <td> foo</td>\n",
        "    </tr>\n",
        "    <tr>\n",
        "      <th>3</th>\n",
        "      <td> 1</td>\n",
        "      <td>2013-01-02</td>\n",
        "      <td> 1</td>\n",
        "      <td> 3</td>\n",
        "      <td> foo</td>\n",
        "    </tr>\n",
        "  </tbody>\n",
        "</table>\n",
        "</div>"
       ],
       "metadata": {},
       "output_type": "pyout",
       "prompt_number": 11,
       "text": [
        "   A          B  C  D    E\n",
        "0  1 2013-01-02  1  3  foo\n",
        "1  1 2013-01-02  1  3  foo\n",
        "2  1 2013-01-02  1  3  foo\n",
        "3  1 2013-01-02  1  3  foo"
       ]
      }
     ],
     "prompt_number": 11
    },
    {
     "cell_type": "code",
     "collapsed": false,
     "input": [
      " df2.dtypes"
     ],
     "language": "python",
     "metadata": {},
     "outputs": [
      {
       "metadata": {},
       "output_type": "pyout",
       "prompt_number": 12,
       "text": [
        "A           float64\n",
        "B    datetime64[ns]\n",
        "C           float32\n",
        "D             int32\n",
        "E            object\n",
        "dtype: object"
       ]
      }
     ],
     "prompt_number": 12
    },
    {
     "cell_type": "code",
     "collapsed": false,
     "input": [],
     "language": "python",
     "metadata": {},
     "outputs": []
    },
    {
     "cell_type": "markdown",
     "metadata": {},
     "source": [
      "###Viewing Data"
     ]
    },
    {
     "cell_type": "code",
     "collapsed": false,
     "input": [
      "df.head()"
     ],
     "language": "python",
     "metadata": {},
     "outputs": [
      {
       "html": [
        "<div style=\"max-height:1000px;max-width:1500px;overflow:auto;\">\n",
        "<table border=\"1\" class=\"dataframe\">\n",
        "  <thead>\n",
        "    <tr style=\"text-align: right;\">\n",
        "      <th></th>\n",
        "      <th>A</th>\n",
        "      <th>B</th>\n",
        "      <th>C</th>\n",
        "      <th>D</th>\n",
        "    </tr>\n",
        "  </thead>\n",
        "  <tbody>\n",
        "    <tr>\n",
        "      <th>2013-01-01</th>\n",
        "      <td> 0.245509</td>\n",
        "      <td>-0.522100</td>\n",
        "      <td> 1.974573</td>\n",
        "      <td> 0.072960</td>\n",
        "    </tr>\n",
        "    <tr>\n",
        "      <th>2013-01-02</th>\n",
        "      <td>-0.201763</td>\n",
        "      <td> 0.255675</td>\n",
        "      <td>-0.075453</td>\n",
        "      <td>-1.429800</td>\n",
        "    </tr>\n",
        "    <tr>\n",
        "      <th>2013-01-03</th>\n",
        "      <td> 0.974032</td>\n",
        "      <td>-2.392205</td>\n",
        "      <td> 0.815723</td>\n",
        "      <td> 0.730472</td>\n",
        "    </tr>\n",
        "    <tr>\n",
        "      <th>2013-01-04</th>\n",
        "      <td> 0.900475</td>\n",
        "      <td>-1.142326</td>\n",
        "      <td>-0.190992</td>\n",
        "      <td> 1.038450</td>\n",
        "    </tr>\n",
        "    <tr>\n",
        "      <th>2013-01-05</th>\n",
        "      <td> 0.030518</td>\n",
        "      <td>-1.984633</td>\n",
        "      <td> 0.759708</td>\n",
        "      <td> 1.158989</td>\n",
        "    </tr>\n",
        "  </tbody>\n",
        "</table>\n",
        "</div>"
       ],
       "metadata": {},
       "output_type": "pyout",
       "prompt_number": 15,
       "text": [
        "                   A         B         C         D\n",
        "2013-01-01  0.245509 -0.522100  1.974573  0.072960\n",
        "2013-01-02 -0.201763  0.255675 -0.075453 -1.429800\n",
        "2013-01-03  0.974032 -2.392205  0.815723  0.730472\n",
        "2013-01-04  0.900475 -1.142326 -0.190992  1.038450\n",
        "2013-01-05  0.030518 -1.984633  0.759708  1.158989"
       ]
      }
     ],
     "prompt_number": 15
    },
    {
     "cell_type": "code",
     "collapsed": false,
     "input": [
      "df.tail(3)"
     ],
     "language": "python",
     "metadata": {},
     "outputs": [
      {
       "html": [
        "<div style=\"max-height:1000px;max-width:1500px;overflow:auto;\">\n",
        "<table border=\"1\" class=\"dataframe\">\n",
        "  <thead>\n",
        "    <tr style=\"text-align: right;\">\n",
        "      <th></th>\n",
        "      <th>A</th>\n",
        "      <th>B</th>\n",
        "      <th>C</th>\n",
        "      <th>D</th>\n",
        "    </tr>\n",
        "  </thead>\n",
        "  <tbody>\n",
        "    <tr>\n",
        "      <th>2013-01-04</th>\n",
        "      <td> 0.900475</td>\n",
        "      <td>-1.142326</td>\n",
        "      <td>-0.190992</td>\n",
        "      <td> 1.038450</td>\n",
        "    </tr>\n",
        "    <tr>\n",
        "      <th>2013-01-05</th>\n",
        "      <td> 0.030518</td>\n",
        "      <td>-1.984633</td>\n",
        "      <td> 0.759708</td>\n",
        "      <td> 1.158989</td>\n",
        "    </tr>\n",
        "    <tr>\n",
        "      <th>2013-01-06</th>\n",
        "      <td>-0.269908</td>\n",
        "      <td> 0.924778</td>\n",
        "      <td> 1.127431</td>\n",
        "      <td> 1.483769</td>\n",
        "    </tr>\n",
        "  </tbody>\n",
        "</table>\n",
        "</div>"
       ],
       "metadata": {},
       "output_type": "pyout",
       "prompt_number": 16,
       "text": [
        "                   A         B         C         D\n",
        "2013-01-04  0.900475 -1.142326 -0.190992  1.038450\n",
        "2013-01-05  0.030518 -1.984633  0.759708  1.158989\n",
        "2013-01-06 -0.269908  0.924778  1.127431  1.483769"
       ]
      }
     ],
     "prompt_number": 16
    },
    {
     "cell_type": "code",
     "collapsed": false,
     "input": [
      "df.index"
     ],
     "language": "python",
     "metadata": {},
     "outputs": [
      {
       "metadata": {},
       "output_type": "pyout",
       "prompt_number": 17,
       "text": [
        "<class 'pandas.tseries.index.DatetimeIndex'>\n",
        "[2013-01-01, ..., 2013-01-06]\n",
        "Length: 6, Freq: D, Timezone: None"
       ]
      }
     ],
     "prompt_number": 17
    },
    {
     "cell_type": "code",
     "collapsed": false,
     "input": [
      "df.columns"
     ],
     "language": "python",
     "metadata": {},
     "outputs": [
      {
       "metadata": {},
       "output_type": "pyout",
       "prompt_number": 19,
       "text": [
        "Index(['A', 'B', 'C', 'D'], dtype='object')"
       ]
      }
     ],
     "prompt_number": 19
    },
    {
     "cell_type": "code",
     "collapsed": false,
     "input": [
      "df.values"
     ],
     "language": "python",
     "metadata": {},
     "outputs": [
      {
       "metadata": {},
       "output_type": "pyout",
       "prompt_number": 20,
       "text": [
        "array([[ 0.24550926, -0.5221005 ,  1.97457278,  0.07296033],\n",
        "       [-0.2017635 ,  0.25567538, -0.07545259, -1.42979974],\n",
        "       [ 0.97403214, -2.39220506,  0.81572254,  0.73047247],\n",
        "       [ 0.90047477, -1.14232584, -0.19099157,  1.03845035],\n",
        "       [ 0.03051762, -1.98463264,  0.75970835,  1.15898922],\n",
        "       [-0.26990842,  0.92477771,  1.12743146,  1.48376855]])"
       ]
      }
     ],
     "prompt_number": 20
    },
    {
     "cell_type": "code",
     "collapsed": false,
     "input": [
      "df.describe()"
     ],
     "language": "python",
     "metadata": {},
     "outputs": [
      {
       "html": [
        "<div style=\"max-height:1000px;max-width:1500px;overflow:auto;\">\n",
        "<table border=\"1\" class=\"dataframe\">\n",
        "  <thead>\n",
        "    <tr style=\"text-align: right;\">\n",
        "      <th></th>\n",
        "      <th>A</th>\n",
        "      <th>B</th>\n",
        "      <th>C</th>\n",
        "      <th>D</th>\n",
        "    </tr>\n",
        "  </thead>\n",
        "  <tbody>\n",
        "    <tr>\n",
        "      <th>count</th>\n",
        "      <td> 6.000000</td>\n",
        "      <td> 6.000000</td>\n",
        "      <td> 6.000000</td>\n",
        "      <td> 6.000000</td>\n",
        "    </tr>\n",
        "    <tr>\n",
        "      <th>mean</th>\n",
        "      <td> 0.279810</td>\n",
        "      <td>-0.810135</td>\n",
        "      <td> 0.735165</td>\n",
        "      <td> 0.509140</td>\n",
        "    </tr>\n",
        "    <tr>\n",
        "      <th>std</th>\n",
        "      <td> 0.541220</td>\n",
        "      <td> 1.282309</td>\n",
        "      <td> 0.801494</td>\n",
        "      <td> 1.063118</td>\n",
        "    </tr>\n",
        "    <tr>\n",
        "      <th>min</th>\n",
        "      <td>-0.269908</td>\n",
        "      <td>-2.392205</td>\n",
        "      <td>-0.190992</td>\n",
        "      <td>-1.429800</td>\n",
        "    </tr>\n",
        "    <tr>\n",
        "      <th>25%</th>\n",
        "      <td>-0.143693</td>\n",
        "      <td>-1.774056</td>\n",
        "      <td> 0.133338</td>\n",
        "      <td> 0.237338</td>\n",
        "    </tr>\n",
        "    <tr>\n",
        "      <th>50%</th>\n",
        "      <td> 0.138013</td>\n",
        "      <td>-0.832213</td>\n",
        "      <td> 0.787715</td>\n",
        "      <td> 0.884461</td>\n",
        "    </tr>\n",
        "    <tr>\n",
        "      <th>75%</th>\n",
        "      <td> 0.736733</td>\n",
        "      <td> 0.061231</td>\n",
        "      <td> 1.049504</td>\n",
        "      <td> 1.128855</td>\n",
        "    </tr>\n",
        "    <tr>\n",
        "      <th>max</th>\n",
        "      <td> 0.974032</td>\n",
        "      <td> 0.924778</td>\n",
        "      <td> 1.974573</td>\n",
        "      <td> 1.483769</td>\n",
        "    </tr>\n",
        "  </tbody>\n",
        "</table>\n",
        "</div>"
       ],
       "metadata": {},
       "output_type": "pyout",
       "prompt_number": 21,
       "text": [
        "              A         B         C         D\n",
        "count  6.000000  6.000000  6.000000  6.000000\n",
        "mean   0.279810 -0.810135  0.735165  0.509140\n",
        "std    0.541220  1.282309  0.801494  1.063118\n",
        "min   -0.269908 -2.392205 -0.190992 -1.429800\n",
        "25%   -0.143693 -1.774056  0.133338  0.237338\n",
        "50%    0.138013 -0.832213  0.787715  0.884461\n",
        "75%    0.736733  0.061231  1.049504  1.128855\n",
        "max    0.974032  0.924778  1.974573  1.483769"
       ]
      }
     ],
     "prompt_number": 21
    },
    {
     "cell_type": "code",
     "collapsed": false,
     "input": [
      "df.T"
     ],
     "language": "python",
     "metadata": {},
     "outputs": [
      {
       "html": [
        "<div style=\"max-height:1000px;max-width:1500px;overflow:auto;\">\n",
        "<table border=\"1\" class=\"dataframe\">\n",
        "  <thead>\n",
        "    <tr style=\"text-align: right;\">\n",
        "      <th></th>\n",
        "      <th>2013-01-01 00:00:00</th>\n",
        "      <th>2013-01-02 00:00:00</th>\n",
        "      <th>2013-01-03 00:00:00</th>\n",
        "      <th>2013-01-04 00:00:00</th>\n",
        "      <th>2013-01-05 00:00:00</th>\n",
        "      <th>2013-01-06 00:00:00</th>\n",
        "    </tr>\n",
        "  </thead>\n",
        "  <tbody>\n",
        "    <tr>\n",
        "      <th>A</th>\n",
        "      <td> 0.245509</td>\n",
        "      <td>-0.201763</td>\n",
        "      <td> 0.974032</td>\n",
        "      <td> 0.900475</td>\n",
        "      <td> 0.030518</td>\n",
        "      <td>-0.269908</td>\n",
        "    </tr>\n",
        "    <tr>\n",
        "      <th>B</th>\n",
        "      <td>-0.522100</td>\n",
        "      <td> 0.255675</td>\n",
        "      <td>-2.392205</td>\n",
        "      <td>-1.142326</td>\n",
        "      <td>-1.984633</td>\n",
        "      <td> 0.924778</td>\n",
        "    </tr>\n",
        "    <tr>\n",
        "      <th>C</th>\n",
        "      <td> 1.974573</td>\n",
        "      <td>-0.075453</td>\n",
        "      <td> 0.815723</td>\n",
        "      <td>-0.190992</td>\n",
        "      <td> 0.759708</td>\n",
        "      <td> 1.127431</td>\n",
        "    </tr>\n",
        "    <tr>\n",
        "      <th>D</th>\n",
        "      <td> 0.072960</td>\n",
        "      <td>-1.429800</td>\n",
        "      <td> 0.730472</td>\n",
        "      <td> 1.038450</td>\n",
        "      <td> 1.158989</td>\n",
        "      <td> 1.483769</td>\n",
        "    </tr>\n",
        "  </tbody>\n",
        "</table>\n",
        "</div>"
       ],
       "metadata": {},
       "output_type": "pyout",
       "prompt_number": 22,
       "text": [
        "   2013-01-01  2013-01-02  2013-01-03  2013-01-04  2013-01-05  2013-01-06\n",
        "A    0.245509   -0.201763    0.974032    0.900475    0.030518   -0.269908\n",
        "B   -0.522100    0.255675   -2.392205   -1.142326   -1.984633    0.924778\n",
        "C    1.974573   -0.075453    0.815723   -0.190992    0.759708    1.127431\n",
        "D    0.072960   -1.429800    0.730472    1.038450    1.158989    1.483769"
       ]
      }
     ],
     "prompt_number": 22
    },
    {
     "cell_type": "code",
     "collapsed": false,
     "input": [],
     "language": "python",
     "metadata": {},
     "outputs": []
    },
    {
     "cell_type": "code",
     "collapsed": false,
     "input": [
      "df.sort_index(axis=1, ascending=False)"
     ],
     "language": "python",
     "metadata": {},
     "outputs": [
      {
       "html": [
        "<div style=\"max-height:1000px;max-width:1500px;overflow:auto;\">\n",
        "<table border=\"1\" class=\"dataframe\">\n",
        "  <thead>\n",
        "    <tr style=\"text-align: right;\">\n",
        "      <th></th>\n",
        "      <th>D</th>\n",
        "      <th>C</th>\n",
        "      <th>B</th>\n",
        "      <th>A</th>\n",
        "    </tr>\n",
        "  </thead>\n",
        "  <tbody>\n",
        "    <tr>\n",
        "      <th>2013-01-01</th>\n",
        "      <td> 0.072960</td>\n",
        "      <td> 1.974573</td>\n",
        "      <td>-0.522100</td>\n",
        "      <td> 0.245509</td>\n",
        "    </tr>\n",
        "    <tr>\n",
        "      <th>2013-01-02</th>\n",
        "      <td>-1.429800</td>\n",
        "      <td>-0.075453</td>\n",
        "      <td> 0.255675</td>\n",
        "      <td>-0.201763</td>\n",
        "    </tr>\n",
        "    <tr>\n",
        "      <th>2013-01-03</th>\n",
        "      <td> 0.730472</td>\n",
        "      <td> 0.815723</td>\n",
        "      <td>-2.392205</td>\n",
        "      <td> 0.974032</td>\n",
        "    </tr>\n",
        "    <tr>\n",
        "      <th>2013-01-04</th>\n",
        "      <td> 1.038450</td>\n",
        "      <td>-0.190992</td>\n",
        "      <td>-1.142326</td>\n",
        "      <td> 0.900475</td>\n",
        "    </tr>\n",
        "    <tr>\n",
        "      <th>2013-01-05</th>\n",
        "      <td> 1.158989</td>\n",
        "      <td> 0.759708</td>\n",
        "      <td>-1.984633</td>\n",
        "      <td> 0.030518</td>\n",
        "    </tr>\n",
        "    <tr>\n",
        "      <th>2013-01-06</th>\n",
        "      <td> 1.483769</td>\n",
        "      <td> 1.127431</td>\n",
        "      <td> 0.924778</td>\n",
        "      <td>-0.269908</td>\n",
        "    </tr>\n",
        "  </tbody>\n",
        "</table>\n",
        "</div>"
       ],
       "metadata": {},
       "output_type": "pyout",
       "prompt_number": 23,
       "text": [
        "                   D         C         B         A\n",
        "2013-01-01  0.072960  1.974573 -0.522100  0.245509\n",
        "2013-01-02 -1.429800 -0.075453  0.255675 -0.201763\n",
        "2013-01-03  0.730472  0.815723 -2.392205  0.974032\n",
        "2013-01-04  1.038450 -0.190992 -1.142326  0.900475\n",
        "2013-01-05  1.158989  0.759708 -1.984633  0.030518\n",
        "2013-01-06  1.483769  1.127431  0.924778 -0.269908"
       ]
      }
     ],
     "prompt_number": 23
    },
    {
     "cell_type": "code",
     "collapsed": false,
     "input": [
      "df.sort(columns='B')"
     ],
     "language": "python",
     "metadata": {},
     "outputs": [
      {
       "html": [
        "<div style=\"max-height:1000px;max-width:1500px;overflow:auto;\">\n",
        "<table border=\"1\" class=\"dataframe\">\n",
        "  <thead>\n",
        "    <tr style=\"text-align: right;\">\n",
        "      <th></th>\n",
        "      <th>A</th>\n",
        "      <th>B</th>\n",
        "      <th>C</th>\n",
        "      <th>D</th>\n",
        "    </tr>\n",
        "  </thead>\n",
        "  <tbody>\n",
        "    <tr>\n",
        "      <th>2013-01-03</th>\n",
        "      <td> 0.974032</td>\n",
        "      <td>-2.392205</td>\n",
        "      <td> 0.815723</td>\n",
        "      <td> 0.730472</td>\n",
        "    </tr>\n",
        "    <tr>\n",
        "      <th>2013-01-05</th>\n",
        "      <td> 0.030518</td>\n",
        "      <td>-1.984633</td>\n",
        "      <td> 0.759708</td>\n",
        "      <td> 1.158989</td>\n",
        "    </tr>\n",
        "    <tr>\n",
        "      <th>2013-01-04</th>\n",
        "      <td> 0.900475</td>\n",
        "      <td>-1.142326</td>\n",
        "      <td>-0.190992</td>\n",
        "      <td> 1.038450</td>\n",
        "    </tr>\n",
        "    <tr>\n",
        "      <th>2013-01-01</th>\n",
        "      <td> 0.245509</td>\n",
        "      <td>-0.522100</td>\n",
        "      <td> 1.974573</td>\n",
        "      <td> 0.072960</td>\n",
        "    </tr>\n",
        "    <tr>\n",
        "      <th>2013-01-02</th>\n",
        "      <td>-0.201763</td>\n",
        "      <td> 0.255675</td>\n",
        "      <td>-0.075453</td>\n",
        "      <td>-1.429800</td>\n",
        "    </tr>\n",
        "    <tr>\n",
        "      <th>2013-01-06</th>\n",
        "      <td>-0.269908</td>\n",
        "      <td> 0.924778</td>\n",
        "      <td> 1.127431</td>\n",
        "      <td> 1.483769</td>\n",
        "    </tr>\n",
        "  </tbody>\n",
        "</table>\n",
        "</div>"
       ],
       "metadata": {},
       "output_type": "pyout",
       "prompt_number": 24,
       "text": [
        "                   A         B         C         D\n",
        "2013-01-03  0.974032 -2.392205  0.815723  0.730472\n",
        "2013-01-05  0.030518 -1.984633  0.759708  1.158989\n",
        "2013-01-04  0.900475 -1.142326 -0.190992  1.038450\n",
        "2013-01-01  0.245509 -0.522100  1.974573  0.072960\n",
        "2013-01-02 -0.201763  0.255675 -0.075453 -1.429800\n",
        "2013-01-06 -0.269908  0.924778  1.127431  1.483769"
       ]
      }
     ],
     "prompt_number": 24
    },
    {
     "cell_type": "markdown",
     "metadata": {},
     "source": []
    },
    {
     "cell_type": "markdown",
     "metadata": {},
     "source": [
      "###Selection"
     ]
    },
    {
     "cell_type": "code",
     "collapsed": false,
     "input": [
      "df['A']"
     ],
     "language": "python",
     "metadata": {},
     "outputs": [
      {
       "metadata": {},
       "output_type": "pyout",
       "prompt_number": 25,
       "text": [
        "2013-01-01    0.245509\n",
        "2013-01-02   -0.201763\n",
        "2013-01-03    0.974032\n",
        "2013-01-04    0.900475\n",
        "2013-01-05    0.030518\n",
        "2013-01-06   -0.269908\n",
        "Freq: D, Name: A, dtype: float64"
       ]
      }
     ],
     "prompt_number": 25
    },
    {
     "cell_type": "markdown",
     "metadata": {},
     "source": [
      "####Selecting via [], which slices the rows."
     ]
    },
    {
     "cell_type": "code",
     "collapsed": false,
     "input": [
      "df[0:3]"
     ],
     "language": "python",
     "metadata": {},
     "outputs": [
      {
       "html": [
        "<div style=\"max-height:1000px;max-width:1500px;overflow:auto;\">\n",
        "<table border=\"1\" class=\"dataframe\">\n",
        "  <thead>\n",
        "    <tr style=\"text-align: right;\">\n",
        "      <th></th>\n",
        "      <th>A</th>\n",
        "      <th>B</th>\n",
        "      <th>C</th>\n",
        "      <th>D</th>\n",
        "    </tr>\n",
        "  </thead>\n",
        "  <tbody>\n",
        "    <tr>\n",
        "      <th>2013-01-01</th>\n",
        "      <td> 0.245509</td>\n",
        "      <td>-0.522100</td>\n",
        "      <td> 1.974573</td>\n",
        "      <td> 0.072960</td>\n",
        "    </tr>\n",
        "    <tr>\n",
        "      <th>2013-01-02</th>\n",
        "      <td>-0.201763</td>\n",
        "      <td> 0.255675</td>\n",
        "      <td>-0.075453</td>\n",
        "      <td>-1.429800</td>\n",
        "    </tr>\n",
        "    <tr>\n",
        "      <th>2013-01-03</th>\n",
        "      <td> 0.974032</td>\n",
        "      <td>-2.392205</td>\n",
        "      <td> 0.815723</td>\n",
        "      <td> 0.730472</td>\n",
        "    </tr>\n",
        "  </tbody>\n",
        "</table>\n",
        "</div>"
       ],
       "metadata": {},
       "output_type": "pyout",
       "prompt_number": 26,
       "text": [
        "                   A         B         C         D\n",
        "2013-01-01  0.245509 -0.522100  1.974573  0.072960\n",
        "2013-01-02 -0.201763  0.255675 -0.075453 -1.429800\n",
        "2013-01-03  0.974032 -2.392205  0.815723  0.730472"
       ]
      }
     ],
     "prompt_number": 26
    },
    {
     "cell_type": "code",
     "collapsed": false,
     "input": [
      "df['20130102':'20130104']"
     ],
     "language": "python",
     "metadata": {},
     "outputs": [
      {
       "html": [
        "<div style=\"max-height:1000px;max-width:1500px;overflow:auto;\">\n",
        "<table border=\"1\" class=\"dataframe\">\n",
        "  <thead>\n",
        "    <tr style=\"text-align: right;\">\n",
        "      <th></th>\n",
        "      <th>A</th>\n",
        "      <th>B</th>\n",
        "      <th>C</th>\n",
        "      <th>D</th>\n",
        "    </tr>\n",
        "  </thead>\n",
        "  <tbody>\n",
        "    <tr>\n",
        "      <th>2013-01-02</th>\n",
        "      <td>-0.201763</td>\n",
        "      <td> 0.255675</td>\n",
        "      <td>-0.075453</td>\n",
        "      <td>-1.429800</td>\n",
        "    </tr>\n",
        "    <tr>\n",
        "      <th>2013-01-03</th>\n",
        "      <td> 0.974032</td>\n",
        "      <td>-2.392205</td>\n",
        "      <td> 0.815723</td>\n",
        "      <td> 0.730472</td>\n",
        "    </tr>\n",
        "    <tr>\n",
        "      <th>2013-01-04</th>\n",
        "      <td> 0.900475</td>\n",
        "      <td>-1.142326</td>\n",
        "      <td>-0.190992</td>\n",
        "      <td> 1.038450</td>\n",
        "    </tr>\n",
        "  </tbody>\n",
        "</table>\n",
        "</div>"
       ],
       "metadata": {},
       "output_type": "pyout",
       "prompt_number": 27,
       "text": [
        "                   A         B         C         D\n",
        "2013-01-02 -0.201763  0.255675 -0.075453 -1.429800\n",
        "2013-01-03  0.974032 -2.392205  0.815723  0.730472\n",
        "2013-01-04  0.900475 -1.142326 -0.190992  1.038450"
       ]
      }
     ],
     "prompt_number": 27
    },
    {
     "cell_type": "markdown",
     "metadata": {},
     "source": []
    },
    {
     "cell_type": "markdown",
     "metadata": {},
     "source": [
      "###Selection by Label"
     ]
    },
    {
     "cell_type": "code",
     "collapsed": false,
     "input": [
      " df.loc[dates[0]]"
     ],
     "language": "python",
     "metadata": {},
     "outputs": [
      {
       "metadata": {},
       "output_type": "pyout",
       "prompt_number": 28,
       "text": [
        "A    0.245509\n",
        "B   -0.522100\n",
        "C    1.974573\n",
        "D    0.072960\n",
        "Name: 2013-01-01 00:00:00, dtype: float64"
       ]
      }
     ],
     "prompt_number": 28
    },
    {
     "cell_type": "code",
     "collapsed": false,
     "input": [
      " df.loc[:,['A','B']]"
     ],
     "language": "python",
     "metadata": {},
     "outputs": [
      {
       "html": [
        "<div style=\"max-height:1000px;max-width:1500px;overflow:auto;\">\n",
        "<table border=\"1\" class=\"dataframe\">\n",
        "  <thead>\n",
        "    <tr style=\"text-align: right;\">\n",
        "      <th></th>\n",
        "      <th>A</th>\n",
        "      <th>B</th>\n",
        "    </tr>\n",
        "  </thead>\n",
        "  <tbody>\n",
        "    <tr>\n",
        "      <th>2013-01-01</th>\n",
        "      <td> 0.245509</td>\n",
        "      <td>-0.522100</td>\n",
        "    </tr>\n",
        "    <tr>\n",
        "      <th>2013-01-02</th>\n",
        "      <td>-0.201763</td>\n",
        "      <td> 0.255675</td>\n",
        "    </tr>\n",
        "    <tr>\n",
        "      <th>2013-01-03</th>\n",
        "      <td> 0.974032</td>\n",
        "      <td>-2.392205</td>\n",
        "    </tr>\n",
        "    <tr>\n",
        "      <th>2013-01-04</th>\n",
        "      <td> 0.900475</td>\n",
        "      <td>-1.142326</td>\n",
        "    </tr>\n",
        "    <tr>\n",
        "      <th>2013-01-05</th>\n",
        "      <td> 0.030518</td>\n",
        "      <td>-1.984633</td>\n",
        "    </tr>\n",
        "    <tr>\n",
        "      <th>2013-01-06</th>\n",
        "      <td>-0.269908</td>\n",
        "      <td> 0.924778</td>\n",
        "    </tr>\n",
        "  </tbody>\n",
        "</table>\n",
        "</div>"
       ],
       "metadata": {},
       "output_type": "pyout",
       "prompt_number": 29,
       "text": [
        "                   A         B\n",
        "2013-01-01  0.245509 -0.522100\n",
        "2013-01-02 -0.201763  0.255675\n",
        "2013-01-03  0.974032 -2.392205\n",
        "2013-01-04  0.900475 -1.142326\n",
        "2013-01-05  0.030518 -1.984633\n",
        "2013-01-06 -0.269908  0.924778"
       ]
      }
     ],
     "prompt_number": 29
    },
    {
     "cell_type": "code",
     "collapsed": false,
     "input": [
      " df.loc['20130102':'20130104',['A','B']]"
     ],
     "language": "python",
     "metadata": {},
     "outputs": [
      {
       "html": [
        "<div style=\"max-height:1000px;max-width:1500px;overflow:auto;\">\n",
        "<table border=\"1\" class=\"dataframe\">\n",
        "  <thead>\n",
        "    <tr style=\"text-align: right;\">\n",
        "      <th></th>\n",
        "      <th>A</th>\n",
        "      <th>B</th>\n",
        "    </tr>\n",
        "  </thead>\n",
        "  <tbody>\n",
        "    <tr>\n",
        "      <th>2013-01-02</th>\n",
        "      <td>-0.201763</td>\n",
        "      <td> 0.255675</td>\n",
        "    </tr>\n",
        "    <tr>\n",
        "      <th>2013-01-03</th>\n",
        "      <td> 0.974032</td>\n",
        "      <td>-2.392205</td>\n",
        "    </tr>\n",
        "    <tr>\n",
        "      <th>2013-01-04</th>\n",
        "      <td> 0.900475</td>\n",
        "      <td>-1.142326</td>\n",
        "    </tr>\n",
        "  </tbody>\n",
        "</table>\n",
        "</div>"
       ],
       "metadata": {},
       "output_type": "pyout",
       "prompt_number": 30,
       "text": [
        "                   A         B\n",
        "2013-01-02 -0.201763  0.255675\n",
        "2013-01-03  0.974032 -2.392205\n",
        "2013-01-04  0.900475 -1.142326"
       ]
      }
     ],
     "prompt_number": 30
    },
    {
     "cell_type": "code",
     "collapsed": false,
     "input": [
      "df.loc['20130102',['A','B']]"
     ],
     "language": "python",
     "metadata": {},
     "outputs": [
      {
       "metadata": {},
       "output_type": "pyout",
       "prompt_number": 31,
       "text": [
        "A   -0.201763\n",
        "B    0.255675\n",
        "Name: 2013-01-02 00:00:00, dtype: float64"
       ]
      }
     ],
     "prompt_number": 31
    },
    {
     "cell_type": "code",
     "collapsed": false,
     "input": [
      " df.loc[dates[0],'A']"
     ],
     "language": "python",
     "metadata": {},
     "outputs": [
      {
       "metadata": {},
       "output_type": "pyout",
       "prompt_number": 32,
       "text": [
        "0.24550926264578629"
       ]
      }
     ],
     "prompt_number": 32
    },
    {
     "cell_type": "code",
     "collapsed": false,
     "input": [
      "df.at[dates[0],'A']"
     ],
     "language": "python",
     "metadata": {},
     "outputs": [
      {
       "metadata": {},
       "output_type": "pyout",
       "prompt_number": 33,
       "text": [
        "0.24550926264578629"
       ]
      }
     ],
     "prompt_number": 33
    },
    {
     "cell_type": "markdown",
     "metadata": {},
     "source": []
    },
    {
     "cell_type": "markdown",
     "metadata": {},
     "source": [
      "###Selection by Position"
     ]
    },
    {
     "cell_type": "code",
     "collapsed": false,
     "input": [],
     "language": "python",
     "metadata": {},
     "outputs": []
    },
    {
     "cell_type": "code",
     "collapsed": false,
     "input": [],
     "language": "python",
     "metadata": {},
     "outputs": []
    },
    {
     "cell_type": "code",
     "collapsed": false,
     "input": [],
     "language": "python",
     "metadata": {},
     "outputs": []
    },
    {
     "cell_type": "code",
     "collapsed": false,
     "input": [],
     "language": "python",
     "metadata": {},
     "outputs": []
    },
    {
     "cell_type": "code",
     "collapsed": false,
     "input": [],
     "language": "python",
     "metadata": {},
     "outputs": []
    },
    {
     "cell_type": "code",
     "collapsed": false,
     "input": [],
     "language": "python",
     "metadata": {},
     "outputs": []
    },
    {
     "cell_type": "code",
     "collapsed": false,
     "input": [],
     "language": "python",
     "metadata": {},
     "outputs": []
    },
    {
     "cell_type": "code",
     "collapsed": false,
     "input": [],
     "language": "python",
     "metadata": {},
     "outputs": []
    }
   ],
   "metadata": {}
  }
 ]
}